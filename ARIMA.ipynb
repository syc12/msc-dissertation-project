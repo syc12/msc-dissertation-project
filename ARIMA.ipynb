{
 "cells": [
  {
   "cell_type": "code",
   "execution_count": 1,
   "metadata": {
    "colab": {
     "base_uri": "https://localhost:8080/",
     "height": 247
    },
    "colab_type": "code",
    "id": "krCbV5Y8--ha",
    "outputId": "7cc220ee-569d-4619-bfac-e3b1158b9a37"
   },
   "outputs": [
    {
     "name": "stdout",
     "output_type": "stream",
     "text": [
      "Requirement already satisfied: pmdarima in /usr/local/lib/python3.6/dist-packages (1.7.0)\n",
      "Requirement already satisfied: pandas>=0.19 in /usr/local/lib/python3.6/dist-packages (from pmdarima) (1.0.5)\n",
      "Requirement already satisfied: statsmodels>=0.11 in /usr/local/lib/python3.6/dist-packages (from pmdarima) (0.11.1)\n",
      "Requirement already satisfied: urllib3 in /usr/local/lib/python3.6/dist-packages (from pmdarima) (1.24.3)\n",
      "Requirement already satisfied: scipy>=1.3.2 in /usr/local/lib/python3.6/dist-packages (from pmdarima) (1.4.1)\n",
      "Requirement already satisfied: scikit-learn>=0.22 in /usr/local/lib/python3.6/dist-packages (from pmdarima) (0.22.2.post1)\n",
      "Requirement already satisfied: Cython<0.29.18,>=0.29 in /usr/local/lib/python3.6/dist-packages (from pmdarima) (0.29.17)\n",
      "Requirement already satisfied: joblib>=0.11 in /usr/local/lib/python3.6/dist-packages (from pmdarima) (0.16.0)\n",
      "Requirement already satisfied: numpy>=1.17.3 in /usr/local/lib/python3.6/dist-packages (from pmdarima) (1.18.5)\n",
      "Requirement already satisfied: pytz>=2017.2 in /usr/local/lib/python3.6/dist-packages (from pandas>=0.19->pmdarima) (2018.9)\n",
      "Requirement already satisfied: python-dateutil>=2.6.1 in /usr/local/lib/python3.6/dist-packages (from pandas>=0.19->pmdarima) (2.8.1)\n",
      "Requirement already satisfied: patsy>=0.5 in /usr/local/lib/python3.6/dist-packages (from statsmodels>=0.11->pmdarima) (0.5.1)\n",
      "Requirement already satisfied: six>=1.5 in /usr/local/lib/python3.6/dist-packages (from python-dateutil>=2.6.1->pandas>=0.19->pmdarima) (1.15.0)\n"
     ]
    }
   ],
   "source": [
    "!pip install pmdarima"
   ]
  },
  {
   "cell_type": "code",
   "execution_count": 15,
   "metadata": {
    "colab": {},
    "colab_type": "code",
    "id": "TeAycg_W_loy"
   },
   "outputs": [],
   "source": [
    "import pandas as pd\n",
    "from datetime import datetime\n",
    "from sklearn.model_selection import train_test_split\n",
    "import numpy as np\n",
    "import matplotlib.pyplot as plt\n",
    "from matplotlib.ticker import MaxNLocator\n",
    "from statsmodels.tsa.stattools import adfuller\n",
    "from statsmodels.graphics.tsaplots import plot_acf\n",
    "from statsmodels.graphics.tsaplots import plot_pacf\n",
    "from statsmodels.tsa.arima_model import ARIMA\n",
    "from sklearn.metrics import mean_absolute_error\n",
    "from sklearn.metrics import mean_squared_error\n",
    "from sklearn.metrics import r2_score\n",
    "import pmdarima as pm\n",
    "from pmdarima import auto_arima\n",
    "import plotly.graph_objects as go"
   ]
  },
  {
   "cell_type": "code",
   "execution_count": 53,
   "metadata": {
    "colab": {},
    "colab_type": "code",
    "id": "PRds7mIi_pUi"
   },
   "outputs": [],
   "source": [
    "# Import data\n",
    "df = pd.read_csv('../content/drive/My Drive/Dataset/S&P500-Jan2010-to-Dec2019.csv')\n",
    "#df = pd.read_csv('../content/drive/My Drive/Dataset/AMD-Jan2010-to-Dec2019.csv')\n",
    "\n",
    "#df = pd.read_csv('../content/drive/My Drive/Dataset/S&P500-Jan2010-to-May2020.csv')\n",
    "#df = pd.read_csv('../content/drive/My Drive/Dataset/AMD-10.5YEAR.csv')"
   ]
  },
  {
   "cell_type": "code",
   "execution_count": 31,
   "metadata": {
    "colab": {},
    "colab_type": "code",
    "id": "6kqFcvHn_rUw"
   },
   "outputs": [],
   "source": [
    "# Normal\n",
    "# Train & test split\n",
    "# To test how the model does with out sample prediction\n",
    "X_train, X_test = train_test_split(df, test_size=0.1, random_state=None, shuffle=False)\n",
    "\n",
    "# 90% train 10% test\n",
    "# Train from 2010-01-04 to 2018-12-28\n",
    "train = X_train[['Close']]\n",
    "train.index = pd.to_datetime(X_train['Date'])\n",
    "\n",
    "# Test from 2018-12-31 to 2019-12-30\n",
    "test = X_test[['Close']]\n",
    "test.index = pd.to_datetime(X_test['Date'])"
   ]
  },
  {
   "cell_type": "code",
   "execution_count": 54,
   "metadata": {
    "colab": {},
    "colab_type": "code",
    "id": "UG7uUY2AsHqW"
   },
   "outputs": [],
   "source": [
    "# Other tests to test for short-term prediction and COVID-19\n",
    "# 2455 for 60-days\n",
    "# 2412 for 103-days\n",
    "# 2515 for COVID-19 but df must be changed to the 10.5 years one\n",
    "\n",
    "slicing = 2455\n",
    "\n",
    "train = df[['Close']][:slicing] \n",
    "train.index = pd.to_datetime(df['Date'][:slicing])\n",
    "\n",
    "test = df[['Close']][slicing:] \n",
    "test.index = pd.to_datetime(df['Date'][slicing:])\n",
    "\n",
    "#start = 2515-103-103\n",
    "#slicing = 2412\n",
    "\n",
    "train = df[['Close']][:slicing] \n",
    "train.index = pd.to_datetime(df['Date'][:slicing])\n",
    "\n",
    "test = df[['Close']][slicing:] \n",
    "test.index = pd.to_datetime(df['Date'][slicing:])"
   ]
  },
  {
   "cell_type": "code",
   "execution_count": 55,
   "metadata": {
    "colab": {},
    "colab_type": "code",
    "id": "7cwJpaqZsKGI"
   },
   "outputs": [],
   "source": [
    "# Parameters of ARIMA model\n",
    "p = 1\n",
    "d = 1\n",
    "q = 1\n",
    "\n",
    "# To predict in-sample prediction\n",
    "start = d\n",
    "end = train.shape[0]\n",
    "\n",
    "# For out-sample or test prediction \n",
    "steps = test.shape[0]"
   ]
  },
  {
   "cell_type": "code",
   "execution_count": 5,
   "metadata": {
    "colab": {},
    "colab_type": "code",
    "id": "100NxRSG_v-D"
   },
   "outputs": [],
   "source": [
    "# To test the stationarity of the undifferenced or differenced time series\n",
    "# Reference from https://www.analyticsvidhya.com/blog/2016/02/time-series-forecasting-codes-python/# (Jain, 2016)\n",
    "\n",
    "def test_stationarity(timeseries):\n",
    "    \n",
    "  # Determining rolling statistics:\n",
    "  rolmean = timeseries.rolling(12).mean()\n",
    "  rolstd = timeseries.rolling(12).std()\n",
    "\n",
    "  # Plot rolling statistics:\n",
    "  orig = plt.plot(timeseries, color='blue',label='Original')\n",
    "  mean = plt.plot(rolmean, color='red', label='Rolling Mean')\n",
    "  std = plt.plot(rolstd, color='black', label = 'Rolling Std')\n",
    "  plt.legend(loc='best')\n",
    "  plt.title('Rolling Mean & Standard Deviation')\n",
    "  plt.show(block=False)\n",
    "\n",
    "  # Perform Dickey-Fuller test:\n",
    "  print('Results of Dickey-Fuller Test:')\n",
    "  data1 = timeseries.iloc[:,0].values\n",
    "  dftest = adfuller(data1, autolag='AIC')\n",
    "  dfoutput = pd.Series(dftest[0:4], index=['Test Statistic','p-value','#Lags Used','Number of Observations Used'])\n",
    "  for key,value in dftest[4].items():\n",
    "        dfoutput['Critical Value (%s)'%key] = value\n",
    "  print(dfoutput)"
   ]
  },
  {
   "cell_type": "code",
   "execution_count": 6,
   "metadata": {
    "colab": {},
    "colab_type": "code",
    "id": "Xd2Hc2_2AAhC"
   },
   "outputs": [],
   "source": [
    "# To plot ACF and PACF of the differenced timeseries\n",
    "def plot_acf_pacf(timeseries):\n",
    "  # Plot ACF - MA\n",
    "  fig, ax = plt.subplots(figsize=(12,5))\n",
    "  plot_acf(timeseries, lags=20, ax=ax)\n",
    "  plt.show()\n",
    "\n",
    "  # Plot PACF - AR\n",
    "  fig, ax = plt.subplots(figsize=(12,5))\n",
    "  plot_pacf(timeseries, lags=20, ax=ax) \n",
    "  plt.show()"
   ]
  },
  {
   "cell_type": "code",
   "execution_count": 7,
   "metadata": {
    "colab": {
     "base_uri": "https://localhost:8080/",
     "height": 1000
    },
    "colab_type": "code",
    "id": "hhl58WK1_0Qn",
    "outputId": "69a2ad75-bc64-4e11-9b71-9b25a3ed0693"
   },
   "outputs": [
    {
     "name": "stdout",
     "output_type": "stream",
     "text": [
      "\n",
      "\n",
      "\n",
      "Before Differencing\n"
     ]
    },
    {
     "data": {
      "image/png": "[encoded data removed]",
      "text/plain": [
       "<Figure size 432x288 with 1 Axes>"
      ]
     },
     "metadata": {
      "needs_background": "light",
      "tags": []
     },
     "output_type": "display_data"
    },
    {
     "name": "stdout",
     "output_type": "stream",
     "text": [
      "Results of Dickey-Fuller Test:\n",
      "Test Statistic                   -0.360266\n",
      "p-value                           0.916525\n",
      "#Lags Used                       18.000000\n",
      "Number of Observations Used    2436.000000\n",
      "Critical Value (1%)              -3.433037\n",
      "Critical Value (5%)              -2.862727\n",
      "Critical Value (10%)             -2.567402\n",
      "dtype: float64\n",
      "\n",
      "\n",
      "\n",
      "1st Degree Differencing\n"
     ]
    },
    {
     "data": {
      "image/png": "[encoded data removed]",
      "text/plain": [
       "<Figure size 432x288 with 1 Axes>"
      ]
     },
     "metadata": {
      "needs_background": "light",
      "tags": []
     },
     "output_type": "display_data"
    },
    {
     "name": "stdout",
     "output_type": "stream",
     "text": [
      "Results of Dickey-Fuller Test:\n",
      "Test Statistic                  -28.948296\n",
      "p-value                           0.000000\n",
      "#Lags Used                        2.000000\n",
      "Number of Observations Used    2451.000000\n",
      "Critical Value (1%)              -3.433021\n",
      "Critical Value (5%)              -2.862720\n",
      "Critical Value (10%)             -2.567398\n",
      "dtype: float64\n",
      "\n",
      "\n",
      "\n",
      "2nd Degree Differencing\n"
     ]
    },
    {
     "data": {
      "image/png": "[encoded data removed]",
      "text/plain": [
       "<Figure size 432x288 with 1 Axes>"
      ]
     },
     "metadata": {
      "needs_background": "light",
      "tags": []
     },
     "output_type": "display_data"
    },
    {
     "name": "stdout",
     "output_type": "stream",
     "text": [
      "Results of Dickey-Fuller Test:\n",
      "Test Statistic                -1.648666e+01\n",
      "p-value                        2.211718e-29\n",
      "#Lags Used                     2.700000e+01\n",
      "Number of Observations Used    2.425000e+03\n",
      "Critical Value (1%)           -3.433049e+00\n",
      "Critical Value (5%)           -2.862733e+00\n",
      "Critical Value (10%)          -2.567405e+00\n",
      "dtype: float64\n",
      "\n",
      "\n",
      "\n",
      "3rd Degree Differencing\n"
     ]
    },
    {
     "data": {
      "image/png": "[encoded data removed]",
      "text/plain": [
       "<Figure size 432x288 with 1 Axes>"
      ]
     },
     "metadata": {
      "needs_background": "light",
      "tags": []
     },
     "output_type": "display_data"
    },
    {
     "name": "stdout",
     "output_type": "stream",
     "text": [
      "Results of Dickey-Fuller Test:\n",
      "Test Statistic                  -21.332822\n",
      "p-value                           0.000000\n",
      "#Lags Used                       27.000000\n",
      "Number of Observations Used    2424.000000\n",
      "Critical Value (1%)              -3.433051\n",
      "Critical Value (5%)              -2.862733\n",
      "Critical Value (10%)             -2.567405\n",
      "dtype: float64\n"
     ]
    }
   ],
   "source": [
    "# Before differencing\n",
    "print('\\n\\n\\nBefore Differencing')\n",
    "test_stationarity(train)\n",
    "\n",
    "# Differencing - 1st Method\n",
    "# 1st Degree Differencing\n",
    "data_log_diff_1 = np.log(train).diff()\n",
    "data_log_diff_1.dropna(inplace=True)\n",
    "\n",
    "print('\\n\\n\\n1st Degree Differencing')\n",
    "test_stationarity(data_log_diff_1)\n",
    "\n",
    "# 2nd Degree Differencing\n",
    "data_log_diff_2 = data_log_diff_1.diff()\n",
    "data_log_diff_2.dropna(inplace=True)\n",
    "\n",
    "print('\\n\\n\\n2nd Degree Differencing')\n",
    "test_stationarity(data_log_diff_2)\n",
    "\n",
    "# 3rd Degree Differencing\n",
    "data_log_diff_3 = data_log_diff_2.diff()\n",
    "data_log_diff_3.dropna(inplace=True)\n",
    "\n",
    "print('\\n\\n\\n3rd Degree Differencing')\n",
    "test_stationarity(data_log_diff_3)"
   ]
  },
  {
   "cell_type": "code",
   "execution_count": 8,
   "metadata": {
    "colab": {
     "base_uri": "https://localhost:8080/",
     "height": 654
    },
    "colab_type": "code",
    "id": "sTnFMxdLC3WC",
    "outputId": "a6a55db4-6e78-4eeb-83cf-775e3f68d8fa"
   },
   "outputs": [
    {
     "data": {
      "image/png": "[encoded data removed]",
      "text/plain": [
       "<Figure size 864x360 with 1 Axes>"
      ]
     },
     "metadata": {
      "needs_background": "light",
      "tags": []
     },
     "output_type": "display_data"
    },
    {
     "data": {
      "image/png": "[encoded data removed]",
      "text/plain": [
       "<Figure size 864x360 with 1 Axes>"
      ]
     },
     "metadata": {
      "needs_background": "light",
      "tags": []
     },
     "output_type": "display_data"
    }
   ],
   "source": [
    "plot_acf_pacf(data_log_diff_1)"
   ]
  },
  {
   "cell_type": "code",
   "execution_count": 9,
   "metadata": {
    "colab": {
     "base_uri": "https://localhost:8080/",
     "height": 550
    },
    "colab_type": "code",
    "id": "Vm2dvXPnBhe6",
    "outputId": "e044c336-dff2-416f-c23f-1b0799dee0f9"
   },
   "outputs": [
    {
     "name": "stderr",
     "output_type": "stream",
     "text": [
      "/usr/local/lib/python3.6/dist-packages/statsmodels/base/model.py:568: ConvergenceWarning:\n",
      "\n",
      "Maximum Likelihood optimization failed to converge. Check mle_retvals\n",
      "\n"
     ]
    },
    {
     "name": "stdout",
     "output_type": "stream",
     "text": [
      "                               SARIMAX Results                                \n",
      "==============================================================================\n",
      "Dep. Variable:                      y   No. Observations:                 2263\n",
      "Model:               SARIMAX(0, 1, 4)   Log Likelihood                -779.651\n",
      "Date:                Wed, 19 Aug 2020   AIC                           1569.302\n",
      "Time:                        17:18:58   BIC                           1597.922\n",
      "Sample:                             0   HQIC                          1579.745\n",
      "                               - 2263                                         \n",
      "Covariance Type:                  opg                                         \n",
      "==============================================================================\n",
      "                 coef    std err          z      P>|z|      [0.025      0.975]\n",
      "------------------------------------------------------------------------------\n",
      "ma.L1          0.0152      0.008      1.882      0.060      -0.001       0.031\n",
      "ma.L2          0.1272      0.009     13.904      0.000       0.109       0.145\n",
      "ma.L3         -0.1132      0.010    -11.863      0.000      -0.132      -0.094\n",
      "ma.L4          0.0537      0.008      6.730      0.000       0.038       0.069\n",
      "sigma2         0.1166      0.001    114.012      0.000       0.115       0.119\n",
      "===================================================================================\n",
      "Ljung-Box (Q):                      151.65   Jarque-Bera (JB):             51414.13\n",
      "Prob(Q):                              0.00   Prob(JB):                         0.00\n",
      "Heteroskedasticity (H):               6.71   Skew:                            -0.47\n",
      "Prob(H) (two-sided):                  0.00   Kurtosis:                        26.34\n",
      "===================================================================================\n",
      "\n",
      "Warnings:\n",
      "[1] Covariance matrix calculated using the outer product of gradients (complex-step).\n"
     ]
    }
   ],
   "source": [
    "# auto-ARIMA\n",
    "def autoarima(train):\n",
    "  stepwise_fit = pm.auto_arima(train) \n",
    "  print(stepwise_fit.summary())\n",
    "\n",
    "# Determine the ARIMA order using Auto ARIMA function\n",
    "autoarima(train)"
   ]
  },
  {
   "cell_type": "code",
   "execution_count": 8,
   "metadata": {
    "colab": {},
    "colab_type": "code",
    "id": "7h1DyO3J_2X6"
   },
   "outputs": [],
   "source": [
    "#@title Fit ARIMA model and make prediction based on the timesteps in the testing dataset\n",
    "def build_ARIMA(train,p,d,q,start,end,steps):\n",
    "  model = ARIMA(train, order=(p, d, q))\n",
    "  train_fit = model.fit(disp=False)\n",
    "\n",
    "  # Print Model Summary\n",
    "  model_summary = print(train_fit.summary())\n",
    "\n",
    "  # using 'typ = levels' to get the actual value rather than the differenced values for performance metrics\n",
    "  train_prediction = train_fit.predict(start=start, end=end, exog=None, typ = 'levels') \n",
    "\n",
    "  train_predict = pd.DataFrame({'Close':train_prediction.values})\n",
    "  train_predict.index = pd.to_datetime(train.index)\n",
    "\n",
    "  test_forecast = train_fit.forecast(steps=steps)[0]\n",
    "  test_predict = pd.DataFrame(data=test_forecast, columns=['Close'])\n",
    "  test_predict.index = pd.to_datetime(test.index)\n",
    "\n",
    "  return [train_fit, model_summary, train_predict, test_predict]"
   ]
  },
  {
   "cell_type": "code",
   "execution_count": 9,
   "metadata": {
    "colab": {},
    "colab_type": "code",
    "id": "iGHa6Wk2APzC"
   },
   "outputs": [],
   "source": [
    "#@title Performance Metrics: Calculate Trend Accuracy\n",
    "# This function is used to calculate whether the model has correctly predicted the correct trend\n",
    "def calculate_correct_trend(train, train_predict, test, test_predict):\n",
    "  n = 1\n",
    "  upward_downward_list = [] # 1 means upward, 0 means downwards\n",
    "  for i in train.values[1:]:\n",
    "    ytd_index = n - 1\n",
    "    ytd = train.values[ytd_index]\n",
    "    today = train.values[n]\n",
    "    if (today - ytd) >= 0:\n",
    "      upward_downward_list.append(1)\n",
    "    else:\n",
    "      upward_downward_list.append(0)\n",
    "    n = n + 1\n",
    "\n",
    "  m = 1\n",
    "  predict_upward_downward_list = [] # 1 means upward, 0 means downwards\n",
    "  for j in train_predict.values[1:]:\n",
    "    ytd_index = m - 1\n",
    "    ytd = train_predict.values[ytd_index]\n",
    "    today = train_predict.values[m]\n",
    "    if (today - ytd) >= 0:\n",
    "      predict_upward_downward_list.append(1)\n",
    "    else:\n",
    "      predict_upward_downward_list.append(0)\n",
    "    m = m + 1\n",
    "\n",
    "  train_correct = 0\n",
    "  train_all = 0\n",
    "  for k in range(len(upward_downward_list)):\n",
    "    # if the correct trend is predicted, the difference is 0 \n",
    "    if (upward_downward_list[k] - predict_upward_downward_list[k]) == 0: \n",
    "      train_correct = train_correct + 1\n",
    "      train_all = train_all + 1\n",
    "    else:\n",
    "      train_all = train_all + 1\n",
    "\n",
    "  # training accuracy is based on the number of correct trend predicted over the number of samples\n",
    "  train_accuracy = train_correct/train_all *100\n",
    "\n",
    "  test_n = 1\n",
    "  test_upward_downward_list = [] # 1 means upward, 0 means downwards\n",
    "  for i in test.values[1:]:\n",
    "    ytd_index = test_n - 1\n",
    "    ytd = test.values[ytd_index]\n",
    "    today = test.values[test_n]\n",
    "    if (today - ytd) >= 0:\n",
    "      test_upward_downward_list.append(1)\n",
    "    else:\n",
    "      test_upward_downward_list.append(0)\n",
    "    test_n = test_n + 1\n",
    "\n",
    "  test_m = 1\n",
    "  test_predict_upward_downward_list = [] # 1 means upward, 0 means downwards\n",
    "  for j in test_predict.values[1:]:\n",
    "    ytd_index = test_m - 1\n",
    "    ytd = test_predict.values[ytd_index]\n",
    "    today = test_predict.values[test_m]\n",
    "    if (today - ytd) >= 0:\n",
    "      test_predict_upward_downward_list.append(1)\n",
    "    else:\n",
    "      test_predict_upward_downward_list.append(0)\n",
    "    test_m = test_m + 1\n",
    "\n",
    "  test_correct = 0\n",
    "  test_all = 0\n",
    "  for i in range(len(test_predict_upward_downward_list)):\n",
    "    if (test_upward_downward_list[i] - test_predict_upward_downward_list[i]) == 0:\n",
    "      test_correct = test_correct + 1\n",
    "      test_all = test_all + 1\n",
    "    else:\n",
    "      test_all = test_all + 1\n",
    "\n",
    "  test_accuracy = test_correct/test_all * 100\n",
    "\n",
    "  overall_accuracy = (train_correct + test_correct)/(train_all + test_all) * 100\n",
    "\n",
    "  plt.figure(figsize=(20,5)).gca().yaxis.set_major_locator(MaxNLocator(integer=True))\n",
    "  plt.plot(test_upward_downward_list, color = 'blue', label='actual')\n",
    "  plt.plot(test_predict_upward_downward_list, color='red', label='predicted')\n",
    "  plt.xlabel('index')\n",
    "  plt.ylabel('stock price')\n",
    "  plt.title('Testing set in predicting the correct trend (1 = upward trend and 0 = downward trend)')\n",
    "  plt.legend()\n",
    "  plt.show()\n",
    "\n",
    "  train_accuracy = round(train_accuracy, 2)\n",
    "  test_accuracy = round(test_accuracy, 2)\n",
    "  overall_accuracy = round(overall_accuracy, 2)\n",
    "\n",
    "  return train_accuracy, test_accuracy, overall_accuracy"
   ]
  },
  {
   "cell_type": "code",
   "execution_count": 10,
   "metadata": {
    "colab": {},
    "colab_type": "code",
    "id": "-hhcjYknAsOx"
   },
   "outputs": [],
   "source": [
    "#@title Performance Metrics: Calculate Confidence Interval Accuracy\n",
    "# This function is to see whether most of the values fall within the 95% confidence range\n",
    "def calculate_confidence(train, train_predict, test, test_predict):\n",
    "  train_lower_limit = []\n",
    "  train_upper_limit = []\n",
    "  for i in train.values:\n",
    "    lower = i * 0.975\n",
    "    upper = i * 1.025\n",
    "    train_lower_limit.append(lower)\n",
    "    train_upper_limit.append(upper)\n",
    "\n",
    "  train_correct = 0\n",
    "  train_all = 0\n",
    "  n = 0\n",
    "  for j in train_predict.values:\n",
    "    # if the predicted value is within the range then it has correctly predicted within the range\n",
    "    if j >= train_lower_limit[n] and j <= train_upper_limit[n]:\n",
    "      train_correct = train_correct + 1\n",
    "      train_all = train_all + 1\n",
    "    else:\n",
    "      train_all = train_all + 1\n",
    "    n = n +1\n",
    "  \n",
    "  # Training accuracy is based on the number of times it correctly predicted within the 95% confidence range\n",
    "  train_ci_accuracy = train_correct/train_all * 100\n",
    "\n",
    "  test_lower_limit = []\n",
    "  test_upper_limit = []\n",
    "  for k in test.values:\n",
    "    lower = k * 0.975\n",
    "    upper = k * 1.025\n",
    "    test_lower_limit.append(lower)\n",
    "    test_upper_limit.append(upper)\n",
    "\n",
    "  test_correct = 0\n",
    "  test_all = 0\n",
    "  m = 0\n",
    "  for l in test_predict.values:\n",
    "    if l >= test_lower_limit[m] and l <= test_upper_limit[m]:\n",
    "      test_correct = test_correct + 1\n",
    "      test_all = test_all + 1\n",
    "    else:\n",
    "      test_all = test_all + 1\n",
    "    m = m +1\n",
    "\n",
    "  test_ci_accuracy = test_correct/test_all * 100\n",
    "\n",
    "  overall_ci_accuracy = (train_correct+test_correct)/(train_all+test_all) * 100\n",
    "\n",
    "  plt.figure(figsize=(20,5))\n",
    "  plt.plot(test_lower_limit, color = 'blue', label='lower')\n",
    "  plt.plot(test_predict.values, color='red', label='predicted')\n",
    "  plt.plot(test_upper_limit, color='green', label='upper')\n",
    "  plt.title('A comparison of the predicted stock price over the 95% Confidence Interval range')\n",
    "  plt.xlabel('Index')\n",
    "  plt.ylabel('Stock Price')\n",
    "  plt.legend()\n",
    "  plt.show()\n",
    "\n",
    "  train_ci_accuracy = round(train_ci_accuracy, 2)\n",
    "  test_ci_accuracy = round(test_ci_accuracy, 2)\n",
    "  overall_ci_accuracy = round(overall_ci_accuracy, 2)\n",
    "\n",
    "  return train_ci_accuracy, test_ci_accuracy, overall_ci_accuracy"
   ]
  },
  {
   "cell_type": "code",
   "execution_count": 11,
   "metadata": {
    "colab": {},
    "colab_type": "code",
    "id": "_oOdnBTmBBxs"
   },
   "outputs": [],
   "source": [
    "#@title Actual vs Predicted Plot\n",
    "def actual_predicted_plot(train, train_predict, test, test_predict):\n",
    "  # TRAIN\n",
    "  # Actual VS Predicted\n",
    "  plt.figure(figsize=(20,5))\n",
    "  plt.plot(train, color = 'blue', label='actual')\n",
    "  plt.plot(train_predict, color='red', label='predicted')\n",
    "  plt.xlabel('Year')\n",
    "  plt.ylabel('Stock Price')\n",
    "  plt.title('Actual VS Predicted on Training Set')\n",
    "  plt.show()\n",
    "\n",
    "  # TEST\n",
    "  # Actual VS Predicted\n",
    "  plt.figure(figsize=(20,5))\n",
    "  plt.plot(test, color = 'blue', label='actual')\n",
    "  plt.plot(test_predict, color='red', label='predicted')\n",
    "  plt.xlabel('Year')\n",
    "  plt.ylabel('Stock Price')\n",
    "  plt.title('Actual VS Predicted on Testing Set')\n",
    "  plt.legend()\n",
    "  plt.show()"
   ]
  },
  {
   "cell_type": "code",
   "execution_count": 12,
   "metadata": {
    "colab": {},
    "colab_type": "code",
    "id": "NTt0ZIPUBJpY"
   },
   "outputs": [],
   "source": [
    "#@title Performance Metrics: MAE, MSE, RMSE, R2, MAPE and Generate Table\n",
    "def calculateMAE(train, train_predict, test, test_predict):\n",
    "  whole_set = np.concatenate((train.values[:], test.values))\n",
    "  whole_prediction = np.concatenate((train_predict.values, test_predict.values))\n",
    "\n",
    "  train_mae = mean_absolute_error(train.values[:], train_predict)\n",
    "  test_mae = mean_absolute_error(test, test_predict)\n",
    "  whole_mae = mean_absolute_error(whole_set, whole_prediction)\n",
    "\n",
    "  train_mae = str(round(train_mae, 2))\n",
    "  test_mae = str(round(test_mae, 2))\n",
    "  whole_mae = str(round(whole_mae, 2))\n",
    "\n",
    "  return [train_mae,test_mae, whole_mae]\n",
    "\n",
    "def calculateMSE(train, train_predict, test, test_predict):\n",
    "  whole_set = np.concatenate((train.values[:], test.values))\n",
    "  whole_prediction = np.concatenate((train_predict.values, test_predict.values))\n",
    "\n",
    "  train_mse = mean_squared_error(train.values[:], train_predict)\n",
    "  test_mse = mean_squared_error(test, test_predict)\n",
    "  whole_mse = mean_squared_error(whole_set, whole_prediction)\n",
    "\n",
    "  train_mse = str(round(train_mse, 2))\n",
    "  test_mse = str(round(test_mse, 2))\n",
    "  whole_mse = str(round(whole_mse, 2))\n",
    "\n",
    "  return [train_mse,test_mse, whole_mse]\n",
    "\n",
    "def calculateRMSE(train, train_predict, test, test_predict):\n",
    "  whole_set = np.concatenate((train.values[:], test.values))\n",
    "  whole_prediction = np.concatenate((train_predict.values, test_predict.values))\n",
    "\n",
    "  train_rmse = mean_squared_error(train.values[:], train_predict,squared=False)\n",
    "  test_rmse = mean_squared_error(test, test_predict,squared=False)\n",
    "  whole_rmse = mean_squared_error(whole_set, whole_prediction,squared=False)\n",
    "\n",
    "  train_rmse = str(round(train_rmse, 2))\n",
    "  test_rmse = str(round(test_rmse, 2))\n",
    "  whole_rmse = str(round(whole_rmse, 2))\n",
    "\n",
    "  return [train_rmse,test_rmse,whole_rmse]\n",
    "\n",
    "def calculateR2(train, train_predict, test, test_predict):\n",
    "  whole_set = np.concatenate((train.values[:], test.values))\n",
    "  whole_prediction = np.concatenate((train_predict.values, test_predict.values))\n",
    "\n",
    "  train_r2 = r2_score(train.values[:], train_predict)\n",
    "  test_r2 = r2_score(test, test_predict)\n",
    "  whole_r2 = r2_score(whole_set, whole_prediction)\n",
    "\n",
    "  train_r2 = str(round(train_r2, 2))\n",
    "  test_r2 = str(round(test_r2, 2))\n",
    "  whole_r2 = str(round(whole_r2, 2))\n",
    "\n",
    "  return [train_r2,test_r2,whole_r2]\n",
    "\n",
    "def calculateMAPE(train, train_predict, test, test_predict): \n",
    "  whole_set = np.concatenate((train.values[:], test.values))\n",
    "  whole_prediction = np.concatenate((train_predict.values, test_predict.values))\n",
    "\n",
    "  y_train_true, y_train_pred = train.values[:], train_predict.values\n",
    "  train_mape = np.mean(np.abs((y_train_true - y_train_pred) / y_train_true)) * 100\n",
    "\n",
    "  y_test_true, y_test_pred = test.values, test_predict.values\n",
    "  test_mape = np.mean(np.abs((y_test_true - y_test_pred) / y_test_true)) * 100\n",
    "\n",
    "  y_whole_true, y_whole_pred = whole_set, whole_prediction\n",
    "  whole_mape = np.mean(np.abs((y_whole_true - y_whole_pred) / y_whole_true)) * 100\n",
    "\n",
    "  train_mape = str(round(train_mape, 2))\n",
    "  test_mape = str(round(test_mape, 2))\n",
    "  whole_mape = str(round(whole_mape, 2))\n",
    "\n",
    "  return [train_mape,test_mape, whole_mape]\n",
    "\n",
    "def generate_metrics(train, train_predict, test, test_predict):\n",
    "  #row\n",
    "  first_row = ['','MAE', 'MSE', 'RMSE', 'R2','MAPE']\n",
    "\n",
    "  #header\n",
    "  first_column = ['Train Set', 'Test Set', 'Whole Set']\n",
    "  mae = calculateMAE(train, train_predict, test, test_predict)\n",
    "  mse = calculateMSE(train, train_predict, test, test_predict)\n",
    "  rmse = calculateRMSE(train, train_predict, test, test_predict)\n",
    "  r2 = calculateR2(train, train_predict, test, test_predict)\n",
    "  mape = calculateMAPE(train, train_predict, test, test_predict)\n",
    "\n",
    "  # https://plotly.com/python/table/\n",
    "  fig = go.Figure(data=[go.Table(header=dict(values=first_row),\n",
    "                 cells=dict(values=[first_column,mae,mse,rmse,r2,mape]))\n",
    "                     ])\n",
    "  fig.update_layout(width=800, height=500)\n",
    "  fig.show()"
   ]
  },
  {
   "cell_type": "markdown",
   "metadata": {
    "colab_type": "text",
    "id": "IJhPK9hfGO-Z"
   },
   "source": [
    "The Tests"
   ]
  },
  {
   "cell_type": "code",
   "execution_count": null,
   "metadata": {
    "colab": {},
    "colab_type": "code",
    "id": "NHQWrsDMBXn3"
   },
   "outputs": [],
   "source": [
    "# Uncomment this when build model with d = 2 \n",
    "# end = end + 1\n",
    "\n",
    "# To build the ARIMA model with the specified order and show its performance metrics\n",
    "train_fit, model_summary, train_predict, test_predict = build_ARIMA(train,p,d,q,start,end,steps)\n",
    "train_ci_accuracy, test_ci_accuracy, overall_ci_accuracy = calculate_confidence(train, train_predict, test, test_predict)\n",
    "train_accuracy, test_accuracy, overall_accuracy = calculate_correct_trend(train, train_predict, test, test_predict)\n",
    "actual_predicted_plot(train, train_predict, test, test_predict)\n",
    "generate_metrics(train, train_predict, test, test_predict)\n",
    "print('Test CI accuracy :' + str(test_ci_accuracy))\n",
    "print('Test trend accuracy :' + str(test_accuracy))"
   ]
  },
  {
   "cell_type": "code",
   "execution_count": null,
   "metadata": {
    "colab": {},
    "colab_type": "code",
    "id": "FjKSOLNIfVOz"
   },
   "outputs": [],
   "source": [
    "# To build the ARIMA model with the specified order and show its performance metrics\n",
    "train_fit, model_summary, train_predict, test_predict = build_ARIMA(train,2,d,2,start,end,steps)\n",
    "train_ci_accuracy, test_ci_accuracy, overall_ci_accuracy = calculate_confidence(train, train_predict, test, test_predict)\n",
    "train_accuracy, test_accuracy, overall_accuracy = calculate_correct_trend(train, train_predict, test, test_predict)\n",
    "actual_predicted_plot(train, train_predict, test, test_predict)\n",
    "generate_metrics(train, train_predict, test, test_predict)\n",
    "print('Test CI accuracy :' + str(test_ci_accuracy))\n",
    "print('Test trend accuracy :' + str(test_accuracy))"
   ]
  },
  {
   "cell_type": "code",
   "execution_count": null,
   "metadata": {
    "colab": {},
    "colab_type": "code",
    "id": "9mpQPnKCfYuA"
   },
   "outputs": [],
   "source": [
    "# To build the ARIMA model with the specified order and show its performance metrics\n",
    "train_fit, model_summary, train_predict, test_predict = build_ARIMA(train,5,d,5,start,end,steps)\n",
    "train_ci_accuracy, test_ci_accuracy, overall_ci_accuracy = calculate_confidence(train, train_predict, test, test_predict)\n",
    "train_accuracy, test_accuracy, overall_accuracy = calculate_correct_trend(train, train_predict, test, test_predict)\n",
    "actual_predicted_plot(train, train_predict, test, test_predict)\n",
    "generate_metrics(train, train_predict, test, test_predict)\n",
    "print('Test CI accuracy :' + str(test_ci_accuracy))\n",
    "print('Test trend accuracy :' + str(test_accuracy))"
   ]
  },
  {
   "cell_type": "code",
   "execution_count": null,
   "metadata": {
    "colab": {},
    "colab_type": "code",
    "id": "jPFWtdPgfbs-"
   },
   "outputs": [],
   "source": [
    "# To build the ARIMA model with the specified order and show its performance metrics\n",
    "train_fit, model_summary, train_predict, test_predict = build_ARIMA(train,7,d,7,start,end,steps)\n",
    "train_ci_accuracy, test_ci_accuracy, overall_ci_accuracy = calculate_confidence(train, train_predict, test, test_predict)\n",
    "train_accuracy, test_accuracy, overall_accuracy = calculate_correct_trend(train, train_predict, test, test_predict)\n",
    "actual_predicted_plot(train, train_predict, test, test_predict)\n",
    "generate_metrics(train, train_predict, test, test_predict)\n",
    "print('Test CI accuracy :' + str(test_ci_accuracy))\n",
    "print('Test trend accuracy :' + str(test_accuracy))"
   ]
  },
  {
   "cell_type": "code",
   "execution_count": null,
   "metadata": {
    "colab": {},
    "colab_type": "code",
    "id": "_vhfa-3Pfekq"
   },
   "outputs": [],
   "source": [
    "# To build the ARIMA model with the specified order and show its performance metrics\n",
    "train_fit, model_summary, train_predict, test_predict = build_ARIMA(train,14,d,14,start,end,steps)\n",
    "train_ci_accuracy, test_ci_accuracy, overall_ci_accuracy = calculate_confidence(train, train_predict, test, test_predict)\n",
    "train_accuracy, test_accuracy, overall_accuracy = calculate_correct_trend(train, train_predict, test, test_predict)\n",
    "actual_predicted_plot(train, train_predict, test, test_predict)\n",
    "generate_metrics(train, train_predict, test, test_predict)\n",
    "print('Test CI accuracy :' + str(test_ci_accuracy))\n",
    "print('Test trend accuracy :' + str(test_accuracy))"
   ]
  },
  {
   "cell_type": "code",
   "execution_count": null,
   "metadata": {
    "colab": {},
    "colab_type": "code",
    "id": "t1x7phHQfgC1"
   },
   "outputs": [],
   "source": [
    "# To build the ARIMA model with the specified order and show its performance metrics\n",
    "train_fit, model_summary, train_predict, test_predict = build_ARIMA(train,18,d,11,start,end,steps)\n",
    "train_ci_accuracy, test_ci_accuracy, overall_ci_accuracy = calculate_confidence(train, train_predict, test, test_predict)\n",
    "train_accuracy, test_accuracy, overall_accuracy = calculate_correct_trend(train, train_predict, test, test_predict)\n",
    "actual_predicted_plot(train, train_predict, test, test_predict)\n",
    "generate_metrics(train, train_predict, test, test_predict)\n",
    "print('Test CI accuracy :' + str(test_ci_accuracy))\n",
    "print('Test trend accuracy :' + str(test_accuracy))"
   ]
  },
  {
   "cell_type": "code",
   "execution_count": null,
   "metadata": {
    "colab": {},
    "colab_type": "code",
    "id": "KKYvF9oAfikD"
   },
   "outputs": [],
   "source": [
    "# To build the ARIMA model with the specified order and show its performance metrics\n",
    "train_fit, model_summary, train_predict, test_predict = build_ARIMA(train,10,d,10,start,end,steps)\n",
    "train_ci_accuracy, test_ci_accuracy, overall_ci_accuracy = calculate_confidence(train, train_predict, test, test_predict)\n",
    "train_accuracy, test_accuracy, overall_accuracy = calculate_correct_trend(train, train_predict, test, test_predict)\n",
    "actual_predicted_plot(train, train_predict, test, test_predict)\n",
    "generate_metrics(train, train_predict, test, test_predict)\n",
    "print('Test CI accuracy :' + str(test_ci_accuracy))\n",
    "print('Test trend accuracy :' + str(test_accuracy))"
   ]
  },
  {
   "cell_type": "code",
   "execution_count": null,
   "metadata": {
    "colab": {},
    "colab_type": "code",
    "id": "gEtEuTyxflvS"
   },
   "outputs": [],
   "source": [
    "# To build the ARIMA model with the specified order and show its performance metrics\n",
    "train_fit, model_summary, train_predict, test_predict = build_ARIMA(train,0,d,4,start,end,steps)\n",
    "train_ci_accuracy, test_ci_accuracy, overall_ci_accuracy = calculate_confidence(train, train_predict, test, test_predict)\n",
    "train_accuracy, test_accuracy, overall_accuracy = calculate_correct_trend(train, train_predict, test, test_predict)\n",
    "actual_predicted_plot(train, train_predict, test, test_predict)\n",
    "generate_metrics(train, train_predict, test, test_predict)\n",
    "print('Test CI accuracy :' + str(test_ci_accuracy))\n",
    "print('Test trend accuracy :' + str(test_accuracy))"
   ]
  },
  {
   "cell_type": "code",
   "execution_count": null,
   "metadata": {
    "colab": {},
    "colab_type": "code",
    "id": "q0pSuA1RfpgT"
   },
   "outputs": [],
   "source": [
    "# Uncomment this when build model with d = 2 \n",
    "end = end + 1\n",
    "\n",
    "# To build the ARIMA model with the specified order and show its performance metrics\n",
    "train_fit, model_summary, train_predict, test_predict = build_ARIMA(train,1,2,1,2,end,steps)\n",
    "train_ci_accuracy, test_ci_accuracy, overall_ci_accuracy = calculate_confidence(train, train_predict, test, test_predict)\n",
    "train_accuracy, test_accuracy, overall_accuracy = calculate_correct_trend(train, train_predict, test, test_predict)\n",
    "actual_predicted_plot(train, train_predict, test, test_predict)\n",
    "generate_metrics(train, train_predict, test, test_predict)\n",
    "print('Test CI accuracy :' + str(test_ci_accuracy))\n",
    "print('Test trend accuracy :' + str(test_accuracy))"
   ]
  },
  {
   "cell_type": "code",
   "execution_count": null,
   "metadata": {
    "colab": {},
    "colab_type": "code",
    "id": "DAsBT-Mjfwb-"
   },
   "outputs": [],
   "source": [
    "# To build the ARIMA model with the specified order and show its performance metrics\n",
    "train_fit, model_summary, train_predict, test_predict = build_ARIMA(train,2,2,2,2,end,steps)\n",
    "train_ci_accuracy, test_ci_accuracy, overall_ci_accuracy = calculate_confidence(train, train_predict, test, test_predict)\n",
    "train_accuracy, test_accuracy, overall_accuracy = calculate_correct_trend(train, train_predict, test, test_predict)\n",
    "actual_predicted_plot(train, train_predict, test, test_predict)\n",
    "generate_metrics(train, train_predict, test, test_predict)\n",
    "print('Test CI accuracy :' + str(test_ci_accuracy))\n",
    "print('Test trend accuracy :' + str(test_accuracy))"
   ]
  },
  {
   "cell_type": "code",
   "execution_count": null,
   "metadata": {
    "colab": {},
    "colab_type": "code",
    "id": "YpzkcGsIfycw"
   },
   "outputs": [],
   "source": [
    "# To build the ARIMA model with the specified order and show its performance metrics\n",
    "train_fit, model_summary, train_predict, test_predict = build_ARIMA(train,4,2,4,2,end,steps)\n",
    "train_ci_accuracy, test_ci_accuracy, overall_ci_accuracy = calculate_confidence(train, train_predict, test, test_predict)\n",
    "train_accuracy, test_accuracy, overall_accuracy = calculate_correct_trend(train, train_predict, test, test_predict)\n",
    "actual_predicted_plot(train, train_predict, test, test_predict)\n",
    "generate_metrics(train, train_predict, test, test_predict)\n",
    "print('Test CI accuracy :' + str(test_ci_accuracy))\n",
    "print('Test trend accuracy :' + str(test_accuracy))"
   ]
  },
  {
   "cell_type": "code",
   "execution_count": null,
   "metadata": {
    "colab": {},
    "colab_type": "code",
    "id": "rj4WYRfTf1DN"
   },
   "outputs": [],
   "source": [
    "# To build the ARIMA model with the specified order and show its performance metrics\n",
    "train_fit, model_summary, train_predict, test_predict = build_ARIMA(train,12,2,3,2,end,steps)\n",
    "train_ci_accuracy, test_ci_accuracy, overall_ci_accuracy = calculate_confidence(train, train_predict, test, test_predict)\n",
    "train_accuracy, test_accuracy, overall_accuracy = calculate_correct_trend(train, train_predict, test, test_predict)\n",
    "actual_predicted_plot(train, train_predict, test, test_predict)\n",
    "generate_metrics(train, train_predict, test, test_predict)\n",
    "print('Test CI accuracy :' + str(test_ci_accuracy))\n",
    "print('Test trend accuracy :' + str(test_accuracy))"
   ]
  },
  {
   "cell_type": "code",
   "execution_count": null,
   "metadata": {
    "colab": {},
    "colab_type": "code",
    "id": "jtPXAbgEf26n"
   },
   "outputs": [],
   "source": [
    "# To build the ARIMA model with the specified order and show its performance metrics\n",
    "train_fit, model_summary, train_predict, test_predict = build_ARIMA(train,13,2,1,2,end,steps)\n",
    "train_ci_accuracy, test_ci_accuracy, overall_ci_accuracy = calculate_confidence(train, train_predict, test, test_predict)\n",
    "train_accuracy, test_accuracy, overall_accuracy = calculate_correct_trend(train, train_predict, test, test_predict)\n",
    "actual_predicted_plot(train, train_predict, test, test_predict)\n",
    "generate_metrics(train, train_predict, test, test_predict)\n",
    "print('Test CI accuracy :' + str(test_ci_accuracy))\n",
    "print('Test trend accuracy :' + str(test_accuracy))"
   ]
  },
  {
   "cell_type": "code",
   "execution_count": null,
   "metadata": {
    "colab": {},
    "colab_type": "code",
    "id": "iGBFBa1Nf4c1"
   },
   "outputs": [],
   "source": [
    "# To build the ARIMA model with the specified order and show its performance metrics\n",
    "train_fit, model_summary, train_predict, test_predict = build_ARIMA(train,18,2,1,2,end,steps)\n",
    "train_ci_accuracy, test_ci_accuracy, overall_ci_accuracy = calculate_confidence(train, train_predict, test, test_predict)\n",
    "train_accuracy, test_accuracy, overall_accuracy = calculate_correct_trend(train, train_predict, test, test_predict)\n",
    "actual_predicted_plot(train, train_predict, test, test_predict)\n",
    "generate_metrics(train, train_predict, test, test_predict)\n",
    "print('Test CI accuracy :' + str(test_ci_accuracy))\n",
    "print('Test trend accuracy :' + str(test_accuracy))"
   ]
  },
  {
   "cell_type": "code",
   "execution_count": null,
   "metadata": {
    "colab": {},
    "colab_type": "code",
    "id": "57LL4w8Zf6wM"
   },
   "outputs": [],
   "source": [
    "# To build the ARIMA model with the specified order and show its performance metrics\n",
    "train_fit, model_summary, train_predict, test_predict = build_ARIMA(train,20,2,5,2,end,steps)\n",
    "train_ci_accuracy, test_ci_accuracy, overall_ci_accuracy = calculate_confidence(train, train_predict, test, test_predict)\n",
    "train_accuracy, test_accuracy, overall_accuracy = calculate_correct_trend(train, train_predict, test, test_predict)\n",
    "actual_predicted_plot(train, train_predict, test, test_predict)\n",
    "generate_metrics(train, train_predict, test, test_predict)\n",
    "print('Test CI accuracy :' + str(test_ci_accuracy))\n",
    "print('Test trend accuracy :' + str(test_accuracy))"
   ]
  },
  {
   "cell_type": "code",
   "execution_count": null,
   "metadata": {
    "colab": {
     "base_uri": "https://localhost:8080/",
     "height": 1000
    },
    "colab_type": "code",
    "id": "pdNe1QJ86LXk",
    "outputId": "f4e06f61-bfbc-4984-a774-74b87bc3064d"
   },
   "outputs": [],
   "source": [
    "# Other test set\n",
    "# S&P500 - 7,1,7\n",
    "# AMD - 1,2,1\n",
    "\n",
    "# Uncomment this when build model with d = 2 \n",
    "end = train.shape[0] + 1\n",
    "\n",
    "train_fit, model_summary, train_predict, test_predict = build_ARIMA(train,7,2,7,2,end,steps)\n",
    "train_ci_accuracy, test_ci_accuracy, overall_ci_accuracy = calculate_confidence(train, train_predict, test, test_predict)\n",
    "train_accuracy, test_accuracy, overall_accuracy = calculate_correct_trend(train, train_predict, test, test_predict)\n",
    "actual_predicted_plot(train, train_predict, test, test_predict)\n",
    "generate_metrics(train, train_predict, test, test_predict)\n",
    "print('Test CI accuracy :' + str(test_ci_accuracy))\n",
    "print('Test trend accuracy :' + str(test_accuracy))"
   ]
  }
 ],
 "metadata": {
  "colab": {
   "collapsed_sections": [],
   "name": "CSC8099-1-ARIMA.ipynb",
   "provenance": []
  },
  "kernelspec": {
   "display_name": "Python 3",
   "language": "python",
   "name": "python3"
  },
  "language_info": {
   "codemirror_mode": {
    "name": "ipython",
    "version": 3
   },
   "file_extension": ".py",
   "mimetype": "text/x-python",
   "name": "python",
   "nbconvert_exporter": "python",
   "pygments_lexer": "ipython3",
   "version": "3.7.6"
  }
 },
 "nbformat": 4,
 "nbformat_minor": 1
}
